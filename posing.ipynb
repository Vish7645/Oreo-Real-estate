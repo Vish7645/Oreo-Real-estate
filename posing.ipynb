{
 "cells": [
  {
   "cell_type": "code",
   "execution_count": 435,
   "metadata": {},
   "outputs": [],
   "source": [
    "import pandas as pd\n",
    "import matplotlib.pyplot as plt\n",
    "import numpy as np\n",
    "from sklearn import datasets,linear_model"
   ]
  },
  {
   "cell_type": "code",
   "execution_count": null,
   "metadata": {},
   "outputs": [],
   "source": []
  },
  {
   "cell_type": "code",
   "execution_count": null,
   "metadata": {},
   "outputs": [],
   "source": []
  },
  {
   "cell_type": "code",
   "execution_count": 436,
   "metadata": {},
   "outputs": [],
   "source": [
    "housing=pd.read_csv(\"HousingData.csv\")"
   ]
  },
  {
   "cell_type": "code",
   "execution_count": 437,
   "metadata": {},
   "outputs": [
    {
     "name": "stdout",
     "output_type": "stream",
     "text": [
      "404  102  506\n"
     ]
    }
   ],
   "source": [
    "from sklearn.model_selection import train_test_split\n",
    "train_data,test_data=train_test_split(housing,test_size=.2,random_state=42)\n",
    "print(len(train_data),\"\",len(test_data),\"\",len(housing))"
   ]
  },
  {
   "cell_type": "code",
   "execution_count": 438,
   "metadata": {},
   "outputs": [
    {
     "name": "stdout",
     "output_type": "stream",
     "text": [
      "         CRIM    ZN  INDUS  CHAS     NOX     RM   AGE     DIS  RAD  TAX   \n",
      "477  15.02340   0.0  18.10   0.0  0.6140  5.304  97.3  2.1007   24  666  \\\n",
      "15    0.62739   0.0   8.14   0.0  0.5380  5.834  56.5  4.4986    4  307   \n",
      "332   0.03466   NaN   6.06   0.0  0.4379  6.031  23.3  6.6407    1  304   \n",
      "423   7.05042   0.0  18.10   0.0  0.6140  6.103   NaN  2.0218   24  666   \n",
      "19    0.72580   0.0   8.14   0.0  0.5380  5.727  69.5  3.7965    4  307   \n",
      "..        ...   ...    ...   ...     ...    ...   ...     ...  ...  ...   \n",
      "106   0.17120   0.0   8.56   0.0  0.5200  5.836  91.9  2.2110    5  384   \n",
      "270   0.29916  20.0   6.96   0.0  0.4640  5.856  42.1  4.4290    3  223   \n",
      "348   0.01501  80.0   2.01   0.0  0.4350  6.635  29.7  8.3440    4  280   \n",
      "435  11.16040   0.0  18.10   0.0  0.7400  6.629  94.6  2.1247   24  666   \n",
      "102   0.22876   0.0   8.56   0.0  0.5200  6.405  85.4  2.7147    5  384   \n",
      "\n",
      "     PTRATIO       B  LSTAT  MEDV  \n",
      "477     20.2  349.48  24.91  12.0  \n",
      "15      21.0  395.62   8.47  19.9  \n",
      "332     16.9  362.25   7.83  19.4  \n",
      "423     20.2    2.52  23.29  13.4  \n",
      "19      21.0  390.95  11.28  18.2  \n",
      "..       ...     ...    ...   ...  \n",
      "106     20.9  395.67  18.66  19.5  \n",
      "270     18.6  388.65  13.00  21.1  \n",
      "348     17.0  390.94   5.99  24.5  \n",
      "435     20.2  109.85  23.27  13.4  \n",
      "102     20.9   70.80  10.63  18.6  \n",
      "\n",
      "[404 rows x 14 columns]\n"
     ]
    }
   ],
   "source": [
    "print(train_data)"
   ]
  },
  {
   "cell_type": "code",
   "execution_count": 439,
   "metadata": {},
   "outputs": [
    {
     "name": "stdout",
     "output_type": "stream",
     "text": [
      "(404, 14)\n"
     ]
    }
   ],
   "source": [
    "housing=train_data.copy()\n",
    "print(np.shape(train_data))"
   ]
  },
  {
   "cell_type": "markdown",
   "metadata": {},
   "source": [
    "                1->    train_index return index\n",
    "                2->    strt_train to copy index in sets of data\n",
    "                3-> n_splits return no sets we want"
   ]
  },
  {
   "cell_type": "code",
   "execution_count": 440,
   "metadata": {},
   "outputs": [],
   "source": [
    "# from sklearn.model_selection import StratifiedShuffleSplit\n",
    "# speel=StratifiedShuffleSplit(n_splits=1,test_size=.2,random_state=42)\n",
    "# for train_index,test_index in speel.split(housing,housing.CHAS):\n",
    "#     strt_train_data=housing.loc[train_index]\n",
    "#     strt_test_data=housing.loc[test_index]"
   ]
  },
  {
   "cell_type": "code",
   "execution_count": 441,
   "metadata": {},
   "outputs": [
    {
     "data": {
      "text/plain": [
       "MEDV       1.000000\n",
       "RM         0.708231\n",
       "B          0.339918\n",
       "ZN         0.318554\n",
       "DIS        0.235114\n",
       "CHAS       0.199610\n",
       "AGE       -0.359495\n",
       "CRIM      -0.383800\n",
       "RAD       -0.387467\n",
       "NOX       -0.415768\n",
       "TAX       -0.459795\n",
       "INDUS     -0.465662\n",
       "PTRATIO   -0.491210\n",
       "LSTAT     -0.732602\n",
       "Name: MEDV, dtype: float64"
      ]
     },
     "execution_count": 441,
     "metadata": {},
     "output_type": "execute_result"
    }
   ],
   "source": [
    "matrix_corr=housing.corr()\n",
    "matrix_corr['MEDV'].sort_values(ascending=False)"
   ]
  },
  {
   "cell_type": "code",
   "execution_count": 442,
   "metadata": {},
   "outputs": [],
   "source": [
    "# from pandas.plotting import scatter_matrix\n",
    "# attribute=[\"MEDV\",\"RM\",\"ZN\",\"LSTAT\"]\n",
    "# scatter_matrix(housing[attribute],figsize=(10,10))"
   ]
  },
  {
   "cell_type": "code",
   "execution_count": 443,
   "metadata": {},
   "outputs": [],
   "source": [
    "# housing.plot(kind='scatter',x='RM',y='MEDV')"
   ]
  },
  {
   "cell_type": "markdown",
   "metadata": {},
   "source": [
    "Trying out Attribute combination"
   ]
  },
  {
   "cell_type": "code",
   "execution_count": 444,
   "metadata": {},
   "outputs": [],
   "source": [
    "housing['TAXRM']=housing['TAX']/housing['RM']"
   ]
  },
  {
   "cell_type": "code",
   "execution_count": 445,
   "metadata": {},
   "outputs": [],
   "source": [
    "# housing.head()"
   ]
  },
  {
   "cell_type": "code",
   "execution_count": 446,
   "metadata": {},
   "outputs": [
    {
     "data": {
      "text/plain": [
       "MEDV       1.000000\n",
       "RM         0.708231\n",
       "B          0.339918\n",
       "ZN         0.318554\n",
       "DIS        0.235114\n",
       "CHAS       0.199610\n",
       "AGE       -0.359495\n",
       "CRIM      -0.383800\n",
       "RAD       -0.387467\n",
       "NOX       -0.415768\n",
       "TAX       -0.459795\n",
       "INDUS     -0.465662\n",
       "PTRATIO   -0.491210\n",
       "TAXRM     -0.540606\n",
       "LSTAT     -0.732602\n",
       "Name: MEDV, dtype: float64"
      ]
     },
     "execution_count": 446,
     "metadata": {},
     "output_type": "execute_result"
    }
   ],
   "source": [
    "matrix_corr=housing.corr()\n",
    "matrix_corr['MEDV'].sort_values(ascending=False)"
   ]
  },
  {
   "cell_type": "code",
   "execution_count": 447,
   "metadata": {},
   "outputs": [],
   "source": [
    "# housing.plot(kind=\"scatter\",x='TAXRM',y='MEDV')"
   ]
  },
  {
   "cell_type": "code",
   "execution_count": 448,
   "metadata": {},
   "outputs": [],
   "source": [
    "# housing.describe()"
   ]
  },
  {
   "cell_type": "code",
   "execution_count": 449,
   "metadata": {},
   "outputs": [],
   "source": [
    "# print(np.shape(housing))"
   ]
  },
  {
   "cell_type": "code",
   "execution_count": 450,
   "metadata": {},
   "outputs": [],
   "source": [
    "housing=train_data.drop(\"MEDV\",axis=1)\n",
    "housing_labels=train_data[\"MEDV\"].copy()"
   ]
  },
  {
   "cell_type": "markdown",
   "metadata": {
    "tags": []
   },
   "source": [
    "                                    Missing Attribute"
   ]
  },
  {
   "cell_type": "markdown",
   "metadata": {},
   "source": [
    "to take care of missing attribute we have 3 option\n",
    "\n",
    "1 --> Get rid of the missing data points\n",
    "\n",
    "2 --> Get rid of whole attribute\n",
    "\n",
    "3 --> Set the value like mean,median,mode "
   ]
  },
  {
   "cell_type": "code",
   "execution_count": 451,
   "metadata": {},
   "outputs": [],
   "source": [
    "# Option 1\n",
    "# a=housing.dropna(subset=[\"RM\"])\n",
    "# a.shape"
   ]
  },
  {
   "cell_type": "code",
   "execution_count": 452,
   "metadata": {},
   "outputs": [],
   "source": [
    "# housing.describe()"
   ]
  },
  {
   "cell_type": "code",
   "execution_count": 453,
   "metadata": {},
   "outputs": [],
   "source": [
    "# Option 2\n",
    "# housing.drop(\"RM\",axis=1).shape"
   ]
  },
  {
   "cell_type": "code",
   "execution_count": 454,
   "metadata": {},
   "outputs": [],
   "source": [
    "# Option 3\n",
    "# medium=housing.median()"
   ]
  },
  {
   "cell_type": "code",
   "execution_count": 455,
   "metadata": {},
   "outputs": [],
   "source": [
    "# print(medium)"
   ]
  },
  {
   "cell_type": "code",
   "execution_count": 456,
   "metadata": {},
   "outputs": [],
   "source": [
    "# housing[\"RM\"].fillna(medium)\n",
    "# Original dataframe are remain unchange "
   ]
  },
  {
   "cell_type": "markdown",
   "metadata": {},
   "source": [
    "                      Coping medium value to NA of \"RM\"  "
   ]
  },
  {
   "cell_type": "code",
   "execution_count": 457,
   "metadata": {},
   "outputs": [],
   "source": [
    "from sklearn.impute import SimpleImputer\n",
    "# imputer=SimpleImputer(strategy=\"median\")\n",
    "# imputer.fit(housing)"
   ]
  },
  {
   "cell_type": "code",
   "execution_count": 458,
   "metadata": {},
   "outputs": [],
   "source": [
    "# imputer.statistics_"
   ]
  },
  {
   "cell_type": "code",
   "execution_count": 459,
   "metadata": {},
   "outputs": [],
   "source": [
    "# fog=imputer.transform(housing)"
   ]
  },
  {
   "cell_type": "code",
   "execution_count": 460,
   "metadata": {},
   "outputs": [],
   "source": [
    "# print(fog)"
   ]
  },
  {
   "cell_type": "code",
   "execution_count": 461,
   "metadata": {},
   "outputs": [],
   "source": [
    "# housing_tr=pd.DataFrame(fog,columns=housing.columns)"
   ]
  },
  {
   "cell_type": "code",
   "execution_count": 462,
   "metadata": {},
   "outputs": [],
   "source": [
    "# housing_tr.describe()"
   ]
  },
  {
   "cell_type": "markdown",
   "metadata": {},
   "source": [
    "                                         Skcitk-learn Design"
   ]
  },
  {
   "cell_type": "markdown",
   "metadata": {},
   "source": [
    "Primairaly 3-type of object\n",
    "1. Estimation - It estiamte some parameter based on a datasets  eg.imputer\n",
    "   It has fit and transform method\n",
    "   fit methods -> fir the datsets and calculate the internal parameters\n",
    "\n",
    "2. Transform - It takes input and give output based on learning from fit()\n",
    "   It has convinions methos fit_transform which fit then transform\n",
    "\n",
    "3. Prediction - LinearRegrssionModel are one of it's prdictor.fir() and transform() are it's function "
   ]
  },
  {
   "cell_type": "markdown",
   "metadata": {},
   "source": [
    "                               Feature Scaling\n",
    "\n",
    "1. min-max Scaling(Normalization)\n",
    "   (val-min)/(max-min)\n",
    "   MinMaxScalar method\n",
    "\n",
    "2. Standardization\n",
    "   (val-mean)/std\n",
    "   StandardScalar"
   ]
  },
  {
   "cell_type": "markdown",
   "metadata": {},
   "source": []
  },
  {
   "cell_type": "code",
   "execution_count": 463,
   "metadata": {},
   "outputs": [],
   "source": [
    "from sklearn.pipeline import Pipeline\n",
    "from sklearn.preprocessing import StandardScaler"
   ]
  },
  {
   "cell_type": "code",
   "execution_count": 464,
   "metadata": {},
   "outputs": [],
   "source": [
    "my_pipeLine=Pipeline([\n",
    "    ('imputer',SimpleImputer(strategy=\"median\")),\n",
    "    ('std_scl',StandardScaler())\n",
    "])"
   ]
  },
  {
   "cell_type": "code",
   "execution_count": 465,
   "metadata": {},
   "outputs": [],
   "source": [
    "housing_num=my_pipeLine.fit_transform(housing)"
   ]
  },
  {
   "cell_type": "markdown",
   "metadata": {},
   "source": [
    "                                Model Training"
   ]
  },
  {
   "cell_type": "code",
   "execution_count": 466,
   "metadata": {},
   "outputs": [
    {
     "data": {
      "text/html": [
       "<style>#sk-container-id-13 {color: black;}#sk-container-id-13 pre{padding: 0;}#sk-container-id-13 div.sk-toggleable {background-color: white;}#sk-container-id-13 label.sk-toggleable__label {cursor: pointer;display: block;width: 100%;margin-bottom: 0;padding: 0.3em;box-sizing: border-box;text-align: center;}#sk-container-id-13 label.sk-toggleable__label-arrow:before {content: \"▸\";float: left;margin-right: 0.25em;color: #696969;}#sk-container-id-13 label.sk-toggleable__label-arrow:hover:before {color: black;}#sk-container-id-13 div.sk-estimator:hover label.sk-toggleable__label-arrow:before {color: black;}#sk-container-id-13 div.sk-toggleable__content {max-height: 0;max-width: 0;overflow: hidden;text-align: left;background-color: #f0f8ff;}#sk-container-id-13 div.sk-toggleable__content pre {margin: 0.2em;color: black;border-radius: 0.25em;background-color: #f0f8ff;}#sk-container-id-13 input.sk-toggleable__control:checked~div.sk-toggleable__content {max-height: 200px;max-width: 100%;overflow: auto;}#sk-container-id-13 input.sk-toggleable__control:checked~label.sk-toggleable__label-arrow:before {content: \"▾\";}#sk-container-id-13 div.sk-estimator input.sk-toggleable__control:checked~label.sk-toggleable__label {background-color: #d4ebff;}#sk-container-id-13 div.sk-label input.sk-toggleable__control:checked~label.sk-toggleable__label {background-color: #d4ebff;}#sk-container-id-13 input.sk-hidden--visually {border: 0;clip: rect(1px 1px 1px 1px);clip: rect(1px, 1px, 1px, 1px);height: 1px;margin: -1px;overflow: hidden;padding: 0;position: absolute;width: 1px;}#sk-container-id-13 div.sk-estimator {font-family: monospace;background-color: #f0f8ff;border: 1px dotted black;border-radius: 0.25em;box-sizing: border-box;margin-bottom: 0.5em;}#sk-container-id-13 div.sk-estimator:hover {background-color: #d4ebff;}#sk-container-id-13 div.sk-parallel-item::after {content: \"\";width: 100%;border-bottom: 1px solid gray;flex-grow: 1;}#sk-container-id-13 div.sk-label:hover label.sk-toggleable__label {background-color: #d4ebff;}#sk-container-id-13 div.sk-serial::before {content: \"\";position: absolute;border-left: 1px solid gray;box-sizing: border-box;top: 0;bottom: 0;left: 50%;z-index: 0;}#sk-container-id-13 div.sk-serial {display: flex;flex-direction: column;align-items: center;background-color: white;padding-right: 0.2em;padding-left: 0.2em;position: relative;}#sk-container-id-13 div.sk-item {position: relative;z-index: 1;}#sk-container-id-13 div.sk-parallel {display: flex;align-items: stretch;justify-content: center;background-color: white;position: relative;}#sk-container-id-13 div.sk-item::before, #sk-container-id-13 div.sk-parallel-item::before {content: \"\";position: absolute;border-left: 1px solid gray;box-sizing: border-box;top: 0;bottom: 0;left: 50%;z-index: -1;}#sk-container-id-13 div.sk-parallel-item {display: flex;flex-direction: column;z-index: 1;position: relative;background-color: white;}#sk-container-id-13 div.sk-parallel-item:first-child::after {align-self: flex-end;width: 50%;}#sk-container-id-13 div.sk-parallel-item:last-child::after {align-self: flex-start;width: 50%;}#sk-container-id-13 div.sk-parallel-item:only-child::after {width: 0;}#sk-container-id-13 div.sk-dashed-wrapped {border: 1px dashed gray;margin: 0 0.4em 0.5em 0.4em;box-sizing: border-box;padding-bottom: 0.4em;background-color: white;}#sk-container-id-13 div.sk-label label {font-family: monospace;font-weight: bold;display: inline-block;line-height: 1.2em;}#sk-container-id-13 div.sk-label-container {text-align: center;}#sk-container-id-13 div.sk-container {/* jupyter's `normalize.less` sets `[hidden] { display: none; }` but bootstrap.min.css set `[hidden] { display: none !important; }` so we also need the `!important` here to be able to override the default hidden behavior on the sphinx rendered scikit-learn.org. See: https://github.com/scikit-learn/scikit-learn/issues/21755 */display: inline-block !important;position: relative;}#sk-container-id-13 div.sk-text-repr-fallback {display: none;}</style><div id=\"sk-container-id-13\" class=\"sk-top-container\"><div class=\"sk-text-repr-fallback\"><pre>RandomForestRegressor()</pre><b>In a Jupyter environment, please rerun this cell to show the HTML representation or trust the notebook. <br />On GitHub, the HTML representation is unable to render, please try loading this page with nbviewer.org.</b></div><div class=\"sk-container\" hidden><div class=\"sk-item\"><div class=\"sk-estimator sk-toggleable\"><input class=\"sk-toggleable__control sk-hidden--visually\" id=\"sk-estimator-id-13\" type=\"checkbox\" checked><label for=\"sk-estimator-id-13\" class=\"sk-toggleable__label sk-toggleable__label-arrow\">RandomForestRegressor</label><div class=\"sk-toggleable__content\"><pre>RandomForestRegressor()</pre></div></div></div></div></div>"
      ],
      "text/plain": [
       "RandomForestRegressor()"
      ]
     },
     "execution_count": 466,
     "metadata": {},
     "output_type": "execute_result"
    }
   ],
   "source": [
    "from sklearn.linear_model import LinearRegression\n",
    "from sklearn.tree import DecisionTreeRegressor\n",
    "from sklearn.ensemble import RandomForestRegressor\n",
    "# model=LinearRegression()\n",
    "# model=DecisionTreeRegressor()\n",
    "model=RandomForestRegressor()\n",
    "model.fit(housing_num,housing_labels)"
   ]
  },
  {
   "cell_type": "code",
   "execution_count": 467,
   "metadata": {},
   "outputs": [
    {
     "data": {
      "text/plain": [
       "array([ 8.607, 22.497, 29.513, 27.363, 20.773])"
      ]
     },
     "execution_count": 467,
     "metadata": {},
     "output_type": "execute_result"
    }
   ],
   "source": [
    "some_data=housing.iloc[:5]\n",
    "some_labels=housing_labels.iloc[:5]\n",
    "prepared_data=my_pipeLine.fit_transform(some_data)\n",
    "model.predict(prepared_data)"
   ]
  },
  {
   "cell_type": "code",
   "execution_count": 468,
   "metadata": {},
   "outputs": [
    {
     "data": {
      "text/plain": [
       "[12.0, 19.9, 19.4, 13.4, 18.2]"
      ]
     },
     "execution_count": 468,
     "metadata": {},
     "output_type": "execute_result"
    }
   ],
   "source": [
    "list(some_labels)"
   ]
  },
  {
   "cell_type": "markdown",
   "metadata": {},
   "source": [
    "                         Evaluating Error"
   ]
  },
  {
   "cell_type": "code",
   "execution_count": 469,
   "metadata": {},
   "outputs": [],
   "source": [
    "from sklearn.metrics import mean_squared_error\n",
    "housing_prediction=model.predict(housing_num)\n",
    "\n",
    "lin_mse=mean_squared_error(housing_labels,housing_prediction)\n",
    "lin_rmse=np.sqrt(lin_mse)"
   ]
  },
  {
   "cell_type": "code",
   "execution_count": 470,
   "metadata": {},
   "outputs": [
    {
     "data": {
      "text/plain": [
       "1.5797643780320572"
      ]
     },
     "execution_count": 470,
     "metadata": {},
     "output_type": "execute_result"
    }
   ],
   "source": [
    "lin_rmse"
   ]
  },
  {
   "cell_type": "markdown",
   "metadata": {},
   "source": [
    "                                Cross-Validation"
   ]
  },
  {
   "cell_type": "code",
   "execution_count": 471,
   "metadata": {},
   "outputs": [],
   "source": [
    "from sklearn.model_selection import cross_val_score\n",
    "score=cross_val_score(model,housing_num,housing_labels,scoring=\"neg_mean_squared_error\",cv=10)\n",
    "rmse_score=np.sqrt(-score)"
   ]
  },
  {
   "cell_type": "code",
   "execution_count": 472,
   "metadata": {},
   "outputs": [
    {
     "data": {
      "text/plain": [
       "array([2.7727131 , 3.52747927, 3.8325489 , 5.52855663, 4.30903807,\n",
       "       4.41231855, 4.11365062, 2.6347142 , 2.53960938, 4.9296245 ])"
      ]
     },
     "execution_count": 472,
     "metadata": {},
     "output_type": "execute_result"
    }
   ],
   "source": [
    "rmse_score"
   ]
  },
  {
   "cell_type": "code",
   "execution_count": 473,
   "metadata": {},
   "outputs": [],
   "source": [
    "def anal_score(score):\n",
    "    print(\"Score\", score)\n",
    "    print(\"Mean\",score.mean())\n",
    "    print(\"Standard_devaition\",score.std())\n",
    "    "
   ]
  },
  {
   "cell_type": "code",
   "execution_count": 474,
   "metadata": {},
   "outputs": [
    {
     "name": "stdout",
     "output_type": "stream",
     "text": [
      "Score [2.7727131  3.52747927 3.8325489  5.52855663 4.30903807 4.41231855\n",
      " 4.11365062 2.6347142  2.53960938 4.9296245 ]\n",
      "Mean 3.860025321620504\n",
      "Standard_devaition 0.9506566403549525\n"
     ]
    }
   ],
   "source": [
    "anal_score(rmse_score)"
   ]
  },
  {
   "cell_type": "markdown",
   "metadata": {},
   "source": [
    "                           Saving the Model"
   ]
  },
  {
   "cell_type": "code",
   "execution_count": 476,
   "metadata": {},
   "outputs": [
    {
     "data": {
      "text/plain": [
       "['Dragon.joblib']"
      ]
     },
     "execution_count": 476,
     "metadata": {},
     "output_type": "execute_result"
    }
   ],
   "source": [
    "from joblib import dump,load\n",
    "dump(model,'Dragon.joblib')"
   ]
  },
  {
   "cell_type": "code",
   "execution_count": 482,
   "metadata": {},
   "outputs": [
    {
     "name": "stdout",
     "output_type": "stream",
     "text": [
      "[25.44  33.984 17.627 24.526 16.221 21.575 20.133 17.432 21.453 20.75\n",
      " 21.238 21.964  8.613 21.958 19.86  27.509 18.707  8.151 45.713 14.209\n",
      " 29.811 27.433 15.589 24.666 14.542 15.012 20.226 15.717 21.042 20.249\n",
      " 20.399 25.544 33.346 19.112 15.494 16.465 34.404 26.685 21.121 21.97\n",
      " 19.806 33.062 46.363 18.501 26.619 13.46  16.844 26.06  18.424 30.631\n",
      " 20.76  34.776 17.225 27.23  46.71  22.405 15.487 35.109 25.05  20.36\n",
      " 28.882 43.521 31.485 19.173 29.242 19.719 13.585 23.862 31.623 15.315\n",
      " 20.295 28.632  9.49  22.871 22.595  7.067 20.212 46.462  9.339 15.071\n",
      " 20.707 12.168 20.006  9.274 20.875 28.716 21.367 27.024 25.176 22.571\n",
      " 21.511  8.485 19.662 19.344 24.604 20.413 36.223 11.803 11.843 15.383\n",
      " 21.142 22.715] [23.6, 32.4, 13.6, 22.8, 16.1, 20.0, 17.8, 14.0, 19.6, 16.8, 21.5, 18.9, 7.0, 21.2, 18.5, 29.8, 18.8, 10.2, 50.0, 14.1, 25.2, 29.1, 12.7, 22.4, 14.2, 13.8, 20.3, 14.9, 21.7, 18.3, 23.1, 23.8, 15.0, 20.8, 19.1, 19.4, 34.7, 19.5, 24.4, 23.4, 19.7, 28.2, 50.0, 17.4, 22.6, 15.1, 13.1, 24.2, 19.9, 24.0, 18.9, 35.4, 15.2, 26.5, 43.5, 21.2, 18.4, 28.5, 23.9, 18.5, 25.0, 35.4, 31.5, 20.2, 24.1, 20.0, 13.1, 24.8, 30.8, 12.7, 20.0, 23.7, 10.8, 20.6, 20.8, 5.0, 20.1, 48.5, 10.9, 7.0, 20.9, 17.2, 20.9, 9.7, 19.4, 29.0, 16.4, 25.0, 25.0, 17.1, 23.2, 10.4, 19.6, 17.2, 27.5, 23.0, 50.0, 17.9, 9.6, 17.2, 22.5, 21.4]\n"
     ]
    }
   ],
   "source": [
    "X_test=test_data.drop(\"MEDV\",axis=1)\n",
    "Y_test=test_data[\"MEDV\"].copy()\n",
    "X_text_prepared=my_pipeLine.fit_transform(X_test)\n",
    "final_predict=model.predict(X_text_prepared)\n",
    "final_rms=mean_squared_error(Y_test,final_predict)\n",
    "final_rmse=np.sqrt(final_rms)\n",
    "print(final_predict,list(Y_test))"
   ]
  },
  {
   "cell_type": "code",
   "execution_count": 480,
   "metadata": {},
   "outputs": [
    {
     "data": {
      "text/plain": [
       "3.6568153843066726"
      ]
     },
     "execution_count": 480,
     "metadata": {},
     "output_type": "execute_result"
    }
   ],
   "source": [
    "final_rmse"
   ]
  },
  {
   "cell_type": "code",
   "execution_count": 481,
   "metadata": {},
   "outputs": [
    {
     "data": {
      "text/plain": [
       "array([ 1.79167403,  0.        ,  1.21197852,  0.        ,  1.01173703,\n",
       "       -1.75804373,  1.48680453, -1.00103851,  1.21786036,  1.22472125,\n",
       "        0.22329795,  0.32916471,  1.31595014])"
      ]
     },
     "execution_count": 481,
     "metadata": {},
     "output_type": "execute_result"
    }
   ],
   "source": [
    "prepared_data[0]"
   ]
  },
  {
   "cell_type": "code",
   "execution_count": null,
   "metadata": {},
   "outputs": [],
   "source": []
  }
 ],
 "metadata": {
  "kernelspec": {
   "display_name": "Python 3",
   "language": "python",
   "name": "python3"
  },
  "language_info": {
   "codemirror_mode": {
    "name": "ipython",
    "version": 3
   },
   "file_extension": ".py",
   "mimetype": "text/x-python",
   "name": "python",
   "nbconvert_exporter": "python",
   "pygments_lexer": "ipython3",
   "version": "3.10.12"
  },
  "orig_nbformat": 4
 },
 "nbformat": 4,
 "nbformat_minor": 2
}
